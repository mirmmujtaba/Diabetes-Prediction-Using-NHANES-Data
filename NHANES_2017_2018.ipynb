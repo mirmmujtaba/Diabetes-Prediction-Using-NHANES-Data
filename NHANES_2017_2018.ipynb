{
  "nbformat": 4,
  "nbformat_minor": 0,
  "metadata": {
    "colab": {
      "provenance": []
    },
    "kernelspec": {
      "name": "python3",
      "display_name": "Python 3"
    },
    "language_info": {
      "name": "python"
    },
    "gpuClass": "standard"
  },
  "cells": [
    {
      "cell_type": "code",
      "source": [
        "# Source: https://wwwn.cdc.gov/nchs/nhanes/continuousnhanes/default.aspx?BeginYear=2017\n",
        "!wget --header=\"Host: wwwn.cdc.gov\" --header=\"User-Agent: Mozilla/5.0 (Windows NT 10.0; Win64; x64) AppleWebKit/537.36 (KHTML, like Gecko) Chrome/111.0.0.0 Safari/537.36\" --header=\"Accept: text/html,application/xhtml+xml,application/xml;q=0.9,image/avif,image/webp,image/apng,*/*;q=0.8,application/signed-exchange;v=b3;q=0.7\" --header=\"Accept-Language: en-US,en;q=0.9\" --header=\"Referer: https://wwwn.cdc.gov/nchs/nhanes/search/datapage.aspx?Component=Demographics&CycleBeginYear=2017\" --header=\"Cookie: akamai_visit_id=1b34d5179107554146cZ; AMCVS_66818A1A54FA2E890A4C98A6%40AdobeOrg=1; AMCV_66818A1A54FA2E890A4C98A6%40AdobeOrg=1176715910%7CMCIDTS%7C19441%7CMCMID%7C52969548560607297522458662513664785015%7CMCAAMLH-1680295876%7C7%7CMCAAMB-1680295876%7CRKhpRz8krg2tLO6pguXWp5olkAcUniQYPHaMWWgdJ3xzPWQmdj0y%7CMCOPTOUT-1679698276s%7CNONE%7CvVersion%7C5.4.0; _ga=GA1.2.1265456989.1679691080; _gid=GA1.2.1123637074.1679691080; s_cc=true; CDCActiveGroups=C0002,C0003,C0004,C0005; _ga=GA1.3.1265456989.1679691080; _gid=GA1.3.1123637074.1679691080; Akamai-Request-ID=1b34d5179126557cf67Z; _4c_=%7B%22_4c_s_%22%3A%22jVRdb9owFP0rVR76RCB2%2FBWkaqKBFarStISuW19QEhviFRKUGBir%2BO%2BzE9NpqzSNBzj35J6b6%2BN7eXMOuSicPiA0IAGAAfR9v%2BO8imPt9N%2BcSnLzs3f6TpYuoY8wciFbZi4SOHUDiIlL04QBQniGCHM6zg9Ti1FEqEeZLnjqONnW1nhzspILXQsEXYC6wHOXtZaon5pyIfI03lYl32VqoY5bk3gQ6UXNX%2FUDLvYyE4uD5Co3FXxCfrO5kKtcaZo2PfBtZVI0OsiCl4e%2FVZZ9VxFMNZtW5aEWRhnmVbkRFwCYEqU2wnluFKbZSixFVTVpOqqlMm1mPOuuyr0ltHktp%2BN5uZ3Lc3YUj%2B5iCwfDsEVTwWXSwqFcSZWs2%2BDzeteC%2B3A8jucPbTApvu%2BqY4tHD7MWhOVmsyukOt7sZOOv4fQZCpmdS0xmwzMcvUyG537md3Pb0M26TJP1WCTrxinNDObxcPYuGrco3iaFrG3GdPpsE65lpfKhtiZTtZVMothqoofxudMojCKrncQW3Zap1bzIV%2BtEGH2ZDF0Q6OjevFUkVZY%2Fze6s64ulmUtrjjnANzM6Zkp9DdZllqyNDXqwO%2FrL8LVamddP57PF9WgQRveay5Xa1v1ez9weALALS9othOqlvbo2pL7RHujdxq5%2BBLvIvQu%2Fxr2aQL0rPqM4YJ6HPg0er6%2FA5UbyKwz1BmHEMPGIR2FAMYQIM0IgNnOHKMMewJeDx9EVOPcyDZu7%2BD%2BpuaXB4qlRAEgwwiRgepPa1fWY55zs%2FtGAUkoIxQjo9VJ6ohhBnvmcWp%2BadfT%2FzCYI04%2FZ7VYstB2uKP4hDT5K9%2FL834Fxqo%2BFfTflnuciTrGbIA5czBgDzM%2B8NPWd95Ik8D1CsI9tScDaiqfTLw%3D%3D%22%7D; TS01ae363a=015d0abe873be6ebbebad2180a52ebf0bd2209cf89fec8f3d2fd206fbab95e79d6ec0a584c0f0785c835a581ee6eadbbbad69d26a8; gpv_pageurl=https%3A%2F%2Fwwwn.cdc.gov%2Fnchs%2Fnhanes%2Fsearch%2Fdatapage.aspx%3Fcomponent%3Ddemographics%26cyclebeginyear%3D2017; gpv_pagename=2017-2018%20Demographics%20Data%20-%20Continuous%20NHANES; s_ptc=0.00%5E%5E0.00%5E%5E0.00%5E%5E0.00%5E%5E0.34%5E%5E0.33%5E%5E0.72%5E%5E0.01%5E%5E1.14; s_plt=1.14; s_pltp=2017-2018%20Demographics%20Data%20-%20Continuous%20NHANES; s_sq=%5B%5BB%5D%5D; s_tp=1663; _gat_GSA_ENOR0=1; s_ppv=2017-2018%2520Demographics%2520Data%2520-%2520Continuous%2520NHANES%2C63%2C48%2C1055; s_tps=6; s_pvs=5\" --header=\"Connection: keep-alive\" \"https://wwwn.cdc.gov/Nchs/Nhanes/2017-2018/DEMO_J.XPT\" -c -O 'DEMO_J.XPT'"
      ],
      "metadata": {
        "colab": {
          "base_uri": "https://localhost:8080/"
        },
        "id": "0cm0Ay14DG0b",
        "outputId": "30cfd7e3-f486-4855-f52b-55ace196b298"
      },
      "execution_count": 1,
      "outputs": [
        {
          "output_type": "stream",
          "name": "stdout",
          "text": [
            "--2023-03-25 02:07:31--  https://wwwn.cdc.gov/Nchs/Nhanes/2017-2018/DEMO_J.XPT\n",
            "Resolving wwwn.cdc.gov (wwwn.cdc.gov)... 198.246.102.39\n",
            "Connecting to wwwn.cdc.gov (wwwn.cdc.gov)|198.246.102.39|:443... connected.\n",
            "HTTP request sent, awaiting response... 200 OK\n",
            "Length: 3412720 (3.3M) [application/octet-stream]\n",
            "Saving to: ‘DEMO_J.XPT’\n",
            "\n",
            "DEMO_J.XPT          100%[===================>]   3.25M   902KB/s    in 4.1s    \n",
            "\n",
            "2023-03-25 02:07:36 (804 KB/s) - ‘DEMO_J.XPT’ saved [3412720/3412720]\n",
            "\n"
          ]
        }
      ]
    },
    {
      "cell_type": "code",
      "source": [
        "# Source: https://wwwn.cdc.gov/nchs/nhanes/search/datapage.aspx?Component=Laboratory&CycleBeginYear=2017\n",
        "!wget --header=\"Host: wwwn.cdc.gov\" --header=\"User-Agent: Mozilla/5.0 (Windows NT 10.0; Win64; x64) AppleWebKit/537.36 (KHTML, like Gecko) Chrome/111.0.0.0 Safari/537.36\" --header=\"Accept: text/html,application/xhtml+xml,application/xml;q=0.9,image/avif,image/webp,image/apng,*/*;q=0.8,application/signed-exchange;v=b3;q=0.7\" --header=\"Accept-Language: en-US,en;q=0.9\" --header=\"Referer: https://wwwn.cdc.gov/nchs/nhanes/search/datapage.aspx?Component=Laboratory&CycleBeginYear=2017\" --header=\"Cookie: akamai_visit_id=1b34d5179107554146cZ; AMCVS_66818A1A54FA2E890A4C98A6%40AdobeOrg=1; AMCV_66818A1A54FA2E890A4C98A6%40AdobeOrg=1176715910%7CMCIDTS%7C19441%7CMCMID%7C52969548560607297522458662513664785015%7CMCAAMLH-1680295876%7C7%7CMCAAMB-1680295876%7CRKhpRz8krg2tLO6pguXWp5olkAcUniQYPHaMWWgdJ3xzPWQmdj0y%7CMCOPTOUT-1679698276s%7CNONE%7CvVersion%7C5.4.0; _ga=GA1.2.1265456989.1679691080; _gid=GA1.2.1123637074.1679691080; s_cc=true; CDCActiveGroups=C0002,C0003,C0004,C0005; _ga=GA1.3.1265456989.1679691080; _gid=GA1.3.1123637074.1679691080; Akamai-Request-ID=1b34d5179126557cf67Z; _4c_=%7B%22_4c_s_%22%3A%22jVRdb9owFP0rVR76RCB2%2FBWkaqKBFarStISuW19QEhviFRKUGBir%2BO%2BzE9NpqzSNBzj35J6b6%2BN7eXMOuSicPiA0IAGAAfR9v%2BO8imPt9N%2BcSnLzs3f6TpYuoY8wciFbZi4SOHUDiIlL04QBQniGCHM6zg9Ti1FEqEeZLnjqONnW1nhzspILXQsEXYC6wHOXtZaon5pyIfI03lYl32VqoY5bk3gQ6UXNX%2FUDLvYyE4uD5Co3FXxCfrO5kKtcaZo2PfBtZVI0OsiCl4e%2FVZZ9VxFMNZtW5aEWRhnmVbkRFwCYEqU2wnluFKbZSixFVTVpOqqlMm1mPOuuyr0ltHktp%2BN5uZ3Lc3YUj%2B5iCwfDsEVTwWXSwqFcSZWs2%2BDzeteC%2B3A8jucPbTApvu%2BqY4tHD7MWhOVmsyukOt7sZOOv4fQZCpmdS0xmwzMcvUyG537md3Pb0M26TJP1WCTrxinNDObxcPYuGrco3iaFrG3GdPpsE65lpfKhtiZTtZVMothqoofxudMojCKrncQW3Zap1bzIV%2BtEGH2ZDF0Q6OjevFUkVZY%2Fze6s64ulmUtrjjnANzM6Zkp9DdZllqyNDXqwO%2FrL8LVamddP57PF9WgQRveay5Xa1v1ez9weALALS9othOqlvbo2pL7RHujdxq5%2BBLvIvQu%2Fxr2aQL0rPqM4YJ6HPg0er6%2FA5UbyKwz1BmHEMPGIR2FAMYQIM0IgNnOHKMMewJeDx9EVOPcyDZu7%2BD%2BpuaXB4qlRAEgwwiRgepPa1fWY55zs%2FtGAUkoIxQjo9VJ6ohhBnvmcWp%2BadfT%2FzCYI04%2FZ7VYstB2uKP4hDT5K9%2FL834Fxqo%2BFfTflnuciTrGbIA5czBgDzM%2B8NPWd95Ik8D1CsI9tScDaiqfTLw%3D%3D%22%7D; TS01ae363a=015d0abe87a190e6f56b4841f58d2f8774e2f44f2572d3e0c39eae367d9fa331c654b850ec7ea6062acf75b0bceb79017b1db623db; gpv_pageurl=https%3A%2F%2Fwwwn.cdc.gov%2Fnchs%2Fnhanes%2Fsearch%2Fdatapage.aspx%3Fcomponent%3Dlaboratory%26cyclebeginyear%3D2017; gpv_pagename=2017-2018%20Laboratory%20Data%20-%20Continuous%20NHANES; s_tp=4902; s_plt=2.10; s_pltp=2017-2018%20Laboratory%20Data%20-%20Continuous%20NHANES; s_sq=%5B%5BB%5D%5D; s_ptc=0.00%5E%5E0.01%5E%5E0.00%5E%5E0.12%5E%5E0.36%5E%5E0.77%5E%5E1.57%5E%5E0.02%5E%5E2.10; s_ppv=2017-2018%2520Laboratory%2520Data%2520-%2520Continuous%2520NHANES%2C84%2C15%2C4096; s_tps=93; s_pvs=103\" --header=\"Connection: keep-alive\" \"https://wwwn.cdc.gov/Nchs/Nhanes/2017-2018/GLU_J.XPT\" -c -O 'GLU_J.XPT'"
      ],
      "metadata": {
        "colab": {
          "base_uri": "https://localhost:8080/"
        },
        "id": "Fgxmlr5dcWd_",
        "outputId": "2566242e-e4ce-4f5c-9397-880c599aa7bb"
      },
      "execution_count": 2,
      "outputs": [
        {
          "output_type": "stream",
          "name": "stdout",
          "text": [
            "--2023-03-25 02:07:36--  https://wwwn.cdc.gov/Nchs/Nhanes/2017-2018/GLU_J.XPT\n",
            "Resolving wwwn.cdc.gov (wwwn.cdc.gov)... 198.246.102.39\n",
            "Connecting to wwwn.cdc.gov (wwwn.cdc.gov)|198.246.102.39|:443... connected.\n",
            "HTTP request sent, awaiting response... 200 OK\n",
            "Length: 98480 (96K) [application/octet-stream]\n",
            "Saving to: ‘GLU_J.XPT’\n",
            "\n",
            "GLU_J.XPT           100%[===================>]  96.17K  --.-KB/s    in 0.1s    \n",
            "\n",
            "2023-03-25 02:07:36 (932 KB/s) - ‘GLU_J.XPT’ saved [98480/98480]\n",
            "\n"
          ]
        }
      ]
    },
    {
      "cell_type": "code",
      "source": [
        "# Source: https://wwwn.cdc.gov/nchs/nhanes/search/datapage.aspx?Component=Questionnaire&CycleBeginYear=2017\n",
        "!wget --header=\"Host: wwwn.cdc.gov\" --header=\"User-Agent: Mozilla/5.0 (Windows NT 10.0; Win64; x64) AppleWebKit/537.36 (KHTML, like Gecko) Chrome/111.0.0.0 Safari/537.36\" --header=\"Accept: text/html,application/xhtml+xml,application/xml;q=0.9,image/avif,image/webp,image/apng,*/*;q=0.8,application/signed-exchange;v=b3;q=0.7\" --header=\"Accept-Language: en-US,en;q=0.9\" --header=\"Referer: https://wwwn.cdc.gov/nchs/nhanes/search/datapage.aspx?Component=Questionnaire&CycleBeginYear=2017\" --header=\"Cookie: akamai_visit_id=1b34d5179107554146cZ; AMCVS_66818A1A54FA2E890A4C98A6%40AdobeOrg=1; AMCV_66818A1A54FA2E890A4C98A6%40AdobeOrg=1176715910%7CMCIDTS%7C19441%7CMCMID%7C52969548560607297522458662513664785015%7CMCAAMLH-1680295876%7C7%7CMCAAMB-1680295876%7CRKhpRz8krg2tLO6pguXWp5olkAcUniQYPHaMWWgdJ3xzPWQmdj0y%7CMCOPTOUT-1679698276s%7CNONE%7CvVersion%7C5.4.0; _ga=GA1.2.1265456989.1679691080; _gid=GA1.2.1123637074.1679691080; s_cc=true; CDCActiveGroups=C0002,C0003,C0004,C0005; _ga=GA1.3.1265456989.1679691080; _gid=GA1.3.1123637074.1679691080; Akamai-Request-ID=1b34d5179126557cf67Z; _4c_=%7B%22_4c_s_%22%3A%22jVRdb9owFP0rVR76RCB2%2FBWkaqKBFarStISuW19QEhviFRKUGBir%2BO%2BzE9NpqzSNBzj35J6b6%2BN7eXMOuSicPiA0IAGAAfR9v%2BO8imPt9N%2BcSnLzs3f6TpYuoY8wciFbZi4SOHUDiIlL04QBQniGCHM6zg9Ti1FEqEeZLnjqONnW1nhzspILXQsEXYC6wHOXtZaon5pyIfI03lYl32VqoY5bk3gQ6UXNX%2FUDLvYyE4uD5Co3FXxCfrO5kKtcaZo2PfBtZVI0OsiCl4e%2FVZZ9VxFMNZtW5aEWRhnmVbkRFwCYEqU2wnluFKbZSixFVTVpOqqlMm1mPOuuyr0ltHktp%2BN5uZ3Lc3YUj%2B5iCwfDsEVTwWXSwqFcSZWs2%2BDzeteC%2B3A8jucPbTApvu%2BqY4tHD7MWhOVmsyukOt7sZOOv4fQZCpmdS0xmwzMcvUyG537md3Pb0M26TJP1WCTrxinNDObxcPYuGrco3iaFrG3GdPpsE65lpfKhtiZTtZVMothqoofxudMojCKrncQW3Zap1bzIV%2BtEGH2ZDF0Q6OjevFUkVZY%2Fze6s64ulmUtrjjnANzM6Zkp9DdZllqyNDXqwO%2FrL8LVamddP57PF9WgQRveay5Xa1v1ez9weALALS9othOqlvbo2pL7RHujdxq5%2BBLvIvQu%2Fxr2aQL0rPqM4YJ6HPg0er6%2FA5UbyKwz1BmHEMPGIR2FAMYQIM0IgNnOHKMMewJeDx9EVOPcyDZu7%2BD%2BpuaXB4qlRAEgwwiRgepPa1fWY55zs%2FtGAUkoIxQjo9VJ6ohhBnvmcWp%2BadfT%2FzCYI04%2FZ7VYstB2uKP4hDT5K9%2FL834Fxqo%2BFfTflnuciTrGbIA5czBgDzM%2B8NPWd95Ik8D1CsI9tScDaiqfTLw%3D%3D%22%7D; TS01ae363a=015d0abe87a190e6f56b4841f58d2f8774e2f44f2572d3e0c39eae367d9fa331c654b850ec7ea6062acf75b0bceb79017b1db623db; _gat_GSA_ENOR0=1; gpv_pageurl=https%3A%2F%2Fwwwn.cdc.gov%2Fnchs%2Fnhanes%2Fsearch%2Fdatapage.aspx%3Fcomponent%3Dquestionnaire%26cyclebeginyear%3D2017; gpv_pagename=2017-2018%20Questionnaire%20Data%20-%20Continuous%20NHANES; s_ptc=0.01%5E%5E0.00%5E%5E0.00%5E%5E0.00%5E%5E0.72%5E%5E0.73%5E%5E1.21%5E%5E0.01%5E%5E1.99; s_plt=1.99; s_pltp=2017-2018%20Questionnaire%20Data%20-%20Continuous%20NHANES; s_sq=%5B%5BB%5D%5D; s_tp=4302; s_ppv=2017-2018%2520Questionnaire%2520Data%2520-%2520Continuous%2520NHANES%2C39%2C16%2C1685; s_tps=7; s_pvs=5\" --header=\"Connection: keep-alive\" \"https://wwwn.cdc.gov/Nchs/Nhanes/2017-2018/DIQ_J.XPT\" -c -O 'DIQ_J.XPT'"
      ],
      "metadata": {
        "colab": {
          "base_uri": "https://localhost:8080/"
        },
        "id": "zta8BxNdcdD9",
        "outputId": "c13d8dce-b86d-455c-97be-e6a8a461f7c0"
      },
      "execution_count": 3,
      "outputs": [
        {
          "output_type": "stream",
          "name": "stdout",
          "text": [
            "--2023-03-25 02:07:37--  https://wwwn.cdc.gov/Nchs/Nhanes/2017-2018/DIQ_J.XPT\n",
            "Resolving wwwn.cdc.gov (wwwn.cdc.gov)... 198.246.102.39\n",
            "Connecting to wwwn.cdc.gov (wwwn.cdc.gov)|198.246.102.39|:443... connected.\n",
            "HTTP request sent, awaiting response... 200 OK\n",
            "Length: 3851840 (3.7M) [application/octet-stream]\n",
            "Saving to: ‘DIQ_J.XPT’\n",
            "\n",
            "DIQ_J.XPT           100%[===================>]   3.67M  1.13MB/s    in 3.3s    \n",
            "\n",
            "2023-03-25 02:07:40 (1.13 MB/s) - ‘DIQ_J.XPT’ saved [3851840/3851840]\n",
            "\n"
          ]
        }
      ]
    },
    {
      "cell_type": "code",
      "source": [
        "pip install lifelines"
      ],
      "metadata": {
        "colab": {
          "base_uri": "https://localhost:8080/"
        },
        "id": "m-_yfvl8Tejy",
        "outputId": "5332ed8d-bb00-46b8-a16c-c5f8f58c2db2"
      },
      "execution_count": 4,
      "outputs": [
        {
          "output_type": "stream",
          "name": "stdout",
          "text": [
            "Looking in indexes: https://pypi.org/simple, https://us-python.pkg.dev/colab-wheels/public/simple/\n",
            "Collecting lifelines\n",
            "  Downloading lifelines-0.27.4-py3-none-any.whl (349 kB)\n",
            "\u001b[2K     \u001b[90m━━━━━━━━━━━━━━━━━━━━━━━━━━━━━━━━━━━━━━━\u001b[0m \u001b[32m349.7/349.7 KB\u001b[0m \u001b[31m2.7 MB/s\u001b[0m eta \u001b[36m0:00:00\u001b[0m\n",
            "\u001b[?25hRequirement already satisfied: scipy>=1.2.0 in /usr/local/lib/python3.9/dist-packages (from lifelines) (1.10.1)\n",
            "Requirement already satisfied: autograd>=1.5 in /usr/local/lib/python3.9/dist-packages (from lifelines) (1.5)\n",
            "Requirement already satisfied: numpy>=1.14.0 in /usr/local/lib/python3.9/dist-packages (from lifelines) (1.22.4)\n",
            "Requirement already satisfied: pandas>=1.0.0 in /usr/local/lib/python3.9/dist-packages (from lifelines) (1.4.4)\n",
            "Collecting autograd-gamma>=0.3\n",
            "  Downloading autograd-gamma-0.5.0.tar.gz (4.0 kB)\n",
            "  Preparing metadata (setup.py) ... \u001b[?25l\u001b[?25hdone\n",
            "Requirement already satisfied: matplotlib>=3.0 in /usr/local/lib/python3.9/dist-packages (from lifelines) (3.7.1)\n",
            "Collecting formulaic>=0.2.2\n",
            "  Downloading formulaic-0.5.2-py3-none-any.whl (77 kB)\n",
            "\u001b[2K     \u001b[90m━━━━━━━━━━━━━━━━━━━━━━━━━━━━━━━━━━━━━━━━\u001b[0m \u001b[32m77.1/77.1 KB\u001b[0m \u001b[31m5.1 MB/s\u001b[0m eta \u001b[36m0:00:00\u001b[0m\n",
            "\u001b[?25hRequirement already satisfied: future>=0.15.2 in /usr/local/lib/python3.9/dist-packages (from autograd>=1.5->lifelines) (0.18.3)\n",
            "Requirement already satisfied: typing-extensions>=4.2.0 in /usr/local/lib/python3.9/dist-packages (from formulaic>=0.2.2->lifelines) (4.5.0)\n",
            "Requirement already satisfied: wrapt>=1.0 in /usr/local/lib/python3.9/dist-packages (from formulaic>=0.2.2->lifelines) (1.15.0)\n",
            "Collecting astor>=0.8\n",
            "  Downloading astor-0.8.1-py2.py3-none-any.whl (27 kB)\n",
            "Collecting interface-meta>=1.2.0\n",
            "  Downloading interface_meta-1.3.0-py3-none-any.whl (14 kB)\n",
            "Requirement already satisfied: pyparsing>=2.3.1 in /usr/local/lib/python3.9/dist-packages (from matplotlib>=3.0->lifelines) (3.0.9)\n",
            "Requirement already satisfied: python-dateutil>=2.7 in /usr/local/lib/python3.9/dist-packages (from matplotlib>=3.0->lifelines) (2.8.2)\n",
            "Requirement already satisfied: cycler>=0.10 in /usr/local/lib/python3.9/dist-packages (from matplotlib>=3.0->lifelines) (0.11.0)\n",
            "Requirement already satisfied: contourpy>=1.0.1 in /usr/local/lib/python3.9/dist-packages (from matplotlib>=3.0->lifelines) (1.0.7)\n",
            "Requirement already satisfied: packaging>=20.0 in /usr/local/lib/python3.9/dist-packages (from matplotlib>=3.0->lifelines) (23.0)\n",
            "Requirement already satisfied: pillow>=6.2.0 in /usr/local/lib/python3.9/dist-packages (from matplotlib>=3.0->lifelines) (8.4.0)\n",
            "Requirement already satisfied: kiwisolver>=1.0.1 in /usr/local/lib/python3.9/dist-packages (from matplotlib>=3.0->lifelines) (1.4.4)\n",
            "Requirement already satisfied: importlib-resources>=3.2.0 in /usr/local/lib/python3.9/dist-packages (from matplotlib>=3.0->lifelines) (5.12.0)\n",
            "Requirement already satisfied: fonttools>=4.22.0 in /usr/local/lib/python3.9/dist-packages (from matplotlib>=3.0->lifelines) (4.39.2)\n",
            "Requirement already satisfied: pytz>=2020.1 in /usr/local/lib/python3.9/dist-packages (from pandas>=1.0.0->lifelines) (2022.7.1)\n",
            "Requirement already satisfied: zipp>=3.1.0 in /usr/local/lib/python3.9/dist-packages (from importlib-resources>=3.2.0->matplotlib>=3.0->lifelines) (3.15.0)\n",
            "Requirement already satisfied: six>=1.5 in /usr/local/lib/python3.9/dist-packages (from python-dateutil>=2.7->matplotlib>=3.0->lifelines) (1.16.0)\n",
            "Building wheels for collected packages: autograd-gamma\n",
            "  Building wheel for autograd-gamma (setup.py) ... \u001b[?25l\u001b[?25hdone\n",
            "  Created wheel for autograd-gamma: filename=autograd_gamma-0.5.0-py3-none-any.whl size=4049 sha256=9932fa03d51f04c022c8b7492ddbd98655e2880b6c9b707f1faa253818508280\n",
            "  Stored in directory: /root/.cache/pip/wheels/a8/03/64/8557323821d25118c3a2dc1646996f7a962a8970d4b7d22473\n",
            "Successfully built autograd-gamma\n",
            "Installing collected packages: interface-meta, astor, autograd-gamma, formulaic, lifelines\n",
            "Successfully installed astor-0.8.1 autograd-gamma-0.5.0 formulaic-0.5.2 interface-meta-1.3.0 lifelines-0.27.4\n"
          ]
        }
      ]
    },
    {
      "cell_type": "code",
      "source": [
        "import pandas as pd\n",
        "import numpy as np\n",
        "from sklearn.feature_selection import RFE\n",
        "from sklearn.ensemble import RandomForestClassifier\n",
        "from sklearn.model_selection import train_test_split\n",
        "from sklearn.preprocessing import StandardScaler\n",
        "from sklearn.metrics import accuracy_score, f1_score\n",
        "from lifelines import CoxPHFitter\n",
        "from hyperopt import fmin, tpe, hp\n",
        "import seaborn as sns\n",
        "import matplotlib.pyplot as plt\n",
        "%matplotlib inline\n",
        "\n",
        "import warnings\n",
        "warnings.filterwarnings('ignore')"
      ],
      "metadata": {
        "id": "hMTYMgnQDP2C"
      },
      "execution_count": 1,
      "outputs": []
    },
    {
      "cell_type": "code",
      "source": [
        "def read_xpt_file(filepath):\n",
        "    df = pd.read_sas(filepath, format = 'xport')\n",
        "    return df\n",
        "\n",
        "demo_j = read_xpt_file('/content/DEMO_J.XPT')\n",
        "glu_j = read_xpt_file('/content/GLU_J.XPT')\n",
        "diq_j = read_xpt_file('/content/DIQ_J.XPT')"
      ],
      "metadata": {
        "id": "eOn660QODiws"
      },
      "execution_count": 2,
      "outputs": []
    },
    {
      "cell_type": "code",
      "source": [
        "demo_j.columns"
      ],
      "metadata": {
        "colab": {
          "base_uri": "https://localhost:8080/"
        },
        "id": "itgaRMJnK7uR",
        "outputId": "d6083335-d847-4e61-f693-75901c77c5c0"
      },
      "execution_count": 3,
      "outputs": [
        {
          "output_type": "execute_result",
          "data": {
            "text/plain": [
              "Index(['SEQN', 'SDDSRVYR', 'RIDSTATR', 'RIAGENDR', 'RIDAGEYR', 'RIDAGEMN',\n",
              "       'RIDRETH1', 'RIDRETH3', 'RIDEXMON', 'RIDEXAGM', 'DMQMILIZ', 'DMQADFC',\n",
              "       'DMDBORN4', 'DMDCITZN', 'DMDYRSUS', 'DMDEDUC3', 'DMDEDUC2', 'DMDMARTL',\n",
              "       'RIDEXPRG', 'SIALANG', 'SIAPROXY', 'SIAINTRP', 'FIALANG', 'FIAPROXY',\n",
              "       'FIAINTRP', 'MIALANG', 'MIAPROXY', 'MIAINTRP', 'AIALANGA', 'DMDHHSIZ',\n",
              "       'DMDFMSIZ', 'DMDHHSZA', 'DMDHHSZB', 'DMDHHSZE', 'DMDHRGND', 'DMDHRAGZ',\n",
              "       'DMDHREDZ', 'DMDHRMAZ', 'DMDHSEDZ', 'WTINT2YR', 'WTMEC2YR', 'SDMVPSU',\n",
              "       'SDMVSTRA', 'INDHHIN2', 'INDFMIN2', 'INDFMPIR'],\n",
              "      dtype='object')"
            ]
          },
          "metadata": {},
          "execution_count": 3
        }
      ]
    },
    {
      "cell_type": "code",
      "source": [
        "glu_j.columns"
      ],
      "metadata": {
        "colab": {
          "base_uri": "https://localhost:8080/"
        },
        "id": "Od7lwT1jdouB",
        "outputId": "6f4780b4-c76e-40df-f10b-507980759cb7"
      },
      "execution_count": 4,
      "outputs": [
        {
          "output_type": "execute_result",
          "data": {
            "text/plain": [
              "Index(['SEQN', 'WTSAF2YR', 'LBXGLU', 'LBDGLUSI'], dtype='object')"
            ]
          },
          "metadata": {},
          "execution_count": 4
        }
      ]
    },
    {
      "cell_type": "code",
      "source": [
        "diq_j.columns"
      ],
      "metadata": {
        "colab": {
          "base_uri": "https://localhost:8080/"
        },
        "id": "ETRLLVjRdrYB",
        "outputId": "8aa23eeb-17b8-4f25-f0d6-eb60ddb31ccc"
      },
      "execution_count": 5,
      "outputs": [
        {
          "output_type": "execute_result",
          "data": {
            "text/plain": [
              "Index(['SEQN', 'DIQ010', 'DID040', 'DIQ160', 'DIQ170', 'DIQ172', 'DIQ175A',\n",
              "       'DIQ175B', 'DIQ175C', 'DIQ175D', 'DIQ175E', 'DIQ175F', 'DIQ175G',\n",
              "       'DIQ175H', 'DIQ175I', 'DIQ175J', 'DIQ175K', 'DIQ175L', 'DIQ175M',\n",
              "       'DIQ175N', 'DIQ175O', 'DIQ175P', 'DIQ175Q', 'DIQ175R', 'DIQ175S',\n",
              "       'DIQ175T', 'DIQ175U', 'DIQ175V', 'DIQ175W', 'DIQ175X', 'DIQ180',\n",
              "       'DIQ050', 'DID060', 'DIQ060U', 'DIQ070', 'DIQ230', 'DIQ240', 'DID250',\n",
              "       'DID260', 'DIQ260U', 'DIQ275', 'DIQ280', 'DIQ291', 'DIQ300S', 'DIQ300D',\n",
              "       'DID310S', 'DID310D', 'DID320', 'DID330', 'DID341', 'DID350', 'DIQ350U',\n",
              "       'DIQ360', 'DIQ080'],\n",
              "      dtype='object')"
            ]
          },
          "metadata": {},
          "execution_count": 5
        }
      ]
    },
    {
      "cell_type": "code",
      "source": [
        "# Merge the DataFrames using the common identifier (SEQN)\n",
        "\n",
        "merged_data = pd.merge(demo_j, glu_j, on = 'SEQN', how = 'inner')\n",
        "merged_data = pd.merge(merged_data, diq_j, on = 'SEQN', how = 'inner')"
      ],
      "metadata": {
        "id": "JW8xHS7oduDU"
      },
      "execution_count": 6,
      "outputs": []
    },
    {
      "cell_type": "code",
      "source": [
        "# Save the merged data to a CSV file\n",
        "\n",
        "merged_data.to_csv('merged_data.csv', index = False)"
      ],
      "metadata": {
        "id": "BmQDzVsXG-d9"
      },
      "execution_count": 7,
      "outputs": []
    },
    {
      "cell_type": "code",
      "source": [
        "merged_data = pd.read_csv('merged_data.csv')"
      ],
      "metadata": {
        "id": "LQ-j3oRfl9sA"
      },
      "execution_count": 8,
      "outputs": []
    },
    {
      "cell_type": "code",
      "source": [
        "merged_data.shape"
      ],
      "metadata": {
        "colab": {
          "base_uri": "https://localhost:8080/"
        },
        "id": "0ytOHjCTm6aP",
        "outputId": "663619b3-1e60-482c-bc8c-5cf635361f14"
      },
      "execution_count": 9,
      "outputs": [
        {
          "output_type": "execute_result",
          "data": {
            "text/plain": [
              "(3036, 102)"
            ]
          },
          "metadata": {},
          "execution_count": 9
        }
      ]
    },
    {
      "cell_type": "code",
      "source": [
        "nulls = 100*(merged_data.isnull().sum()/len(merged_data))\n",
        "nulls = nulls.loc[nulls != 0]"
      ],
      "metadata": {
        "id": "GZ2fHMvLm6dJ"
      },
      "execution_count": 10,
      "outputs": []
    },
    {
      "cell_type": "code",
      "source": [
        "plt.title('Distribution of Nulls')\n",
        "sns.distplot(nulls.values)\n",
        "plt.show()"
      ],
      "metadata": {
        "colab": {
          "base_uri": "https://localhost:8080/",
          "height": 281
        },
        "id": "0WNKe_rsm6iu",
        "outputId": "98e5535d-ba95-415d-c742-0f437e68d092"
      },
      "execution_count": 11,
      "outputs": [
        {
          "output_type": "display_data",
          "data": {
            "text/plain": [
              "<Figure size 432x288 with 1 Axes>"
            ],
            "image/png": "[encoded data removed]"
          },
          "metadata": {
            "needs_background": "light"
          }
        }
      ]
    },
    {
      "cell_type": "code",
      "source": [
        "merged_data.drop(list(nulls.loc[nulls >= 50].index), axis = 1, inplace = True)"
      ],
      "metadata": {
        "id": "wg2rNWgvm6rB"
      },
      "execution_count": 12,
      "outputs": []
    },
    {
      "cell_type": "code",
      "source": [
        "list(nulls.loc[nulls <= 50].index)"
      ],
      "metadata": {
        "colab": {
          "base_uri": "https://localhost:8080/"
        },
        "id": "Jpcs1SYIofuI",
        "outputId": "b9721ba5-86f1-44a5-dcb8-8dec7bb45bbf"
      },
      "execution_count": 13,
      "outputs": [
        {
          "output_type": "execute_result",
          "data": {
            "text/plain": [
              "['DMQMILIZ',\n",
              " 'DMDCITZN',\n",
              " 'DMDEDUC2',\n",
              " 'DMDMARTL',\n",
              " 'FIALANG',\n",
              " 'FIAPROXY',\n",
              " 'FIAINTRP',\n",
              " 'MIALANG',\n",
              " 'MIAPROXY',\n",
              " 'MIAINTRP',\n",
              " 'AIALANGA',\n",
              " 'DMDHREDZ',\n",
              " 'DMDHRMAZ',\n",
              " 'DMDHSEDZ',\n",
              " 'INDHHIN2',\n",
              " 'INDFMIN2',\n",
              " 'INDFMPIR',\n",
              " 'LBXGLU',\n",
              " 'LBDGLUSI',\n",
              " 'DIQ160',\n",
              " 'DIQ170',\n",
              " 'DIQ172',\n",
              " 'DIQ180']"
            ]
          },
          "metadata": {},
          "execution_count": 13
        }
      ]
    },
    {
      "cell_type": "code",
      "source": [
        "merged_data.shape"
      ],
      "metadata": {
        "colab": {
          "base_uri": "https://localhost:8080/"
        },
        "id": "jeWlQuwVofxB",
        "outputId": "379b391a-86c7-40e9-d345-8fbee862c935"
      },
      "execution_count": 14,
      "outputs": [
        {
          "output_type": "execute_result",
          "data": {
            "text/plain": [
              "(3036, 49)"
            ]
          },
          "metadata": {},
          "execution_count": 14
        }
      ]
    },
    {
      "cell_type": "code",
      "source": [
        "nulls.loc[nulls <= 50]"
      ],
      "metadata": {
        "colab": {
          "base_uri": "https://localhost:8080/"
        },
        "id": "FWOGATgnqj56",
        "outputId": "10ce224b-8b57-45d6-fefc-999ecfdf1f63"
      },
      "execution_count": 15,
      "outputs": [
        {
          "output_type": "execute_result",
          "data": {
            "text/plain": [
              "DMQMILIZ    11.001318\n",
              "DMDCITZN     0.032938\n",
              "DMDEDUC2    16.304348\n",
              "DMDMARTL    16.304348\n",
              "FIALANG      4.183136\n",
              "FIAPROXY     4.183136\n",
              "FIAINTRP     4.183136\n",
              "MIALANG      6.357049\n",
              "MIAPROXY     6.357049\n",
              "MIAINTRP     6.357049\n",
              "AIALANGA    21.870883\n",
              "DMDHREDZ     4.479578\n",
              "DMDHRMAZ     1.910408\n",
              "DMDHSEDZ    49.637681\n",
              "INDHHIN2     4.578393\n",
              "INDFMIN2     4.183136\n",
              "INDFMPIR    13.405797\n",
              "LBXGLU       4.776021\n",
              "LBDGLUSI     4.776021\n",
              "DIQ160      17.193676\n",
              "DIQ170      14.328063\n",
              "DIQ172      14.328063\n",
              "DIQ180      14.328063\n",
              "dtype: float64"
            ]
          },
          "metadata": {},
          "execution_count": 15
        }
      ]
    },
    {
      "cell_type": "code",
      "source": [
        "merged_data.drop('DMDHSEDZ', axis = 1, inplace = True)"
      ],
      "metadata": {
        "id": "yz4DUQmFqj82"
      },
      "execution_count": 16,
      "outputs": []
    },
    {
      "cell_type": "code",
      "source": [
        "merged_data['DIQ010'].unique()"
      ],
      "metadata": {
        "colab": {
          "base_uri": "https://localhost:8080/"
        },
        "id": "EVHTzL5RtbCC",
        "outputId": "76eb8634-0daa-4489-8ed3-593b0c4b739b"
      },
      "execution_count": 17,
      "outputs": [
        {
          "output_type": "execute_result",
          "data": {
            "text/plain": [
              "array([3., 2., 1., 9.])"
            ]
          },
          "metadata": {},
          "execution_count": 17
        }
      ]
    },
    {
      "cell_type": "code",
      "source": [
        "merged_data = merged_data.loc[(merged_data['DIQ010'] == 1) | (merged_data['DIQ010'] == 2) | (merged_data['DIQ010'] == 3)]\n",
        "merged_data.shape"
      ],
      "metadata": {
        "colab": {
          "base_uri": "https://localhost:8080/"
        },
        "id": "yCVDNpLPqkAo",
        "outputId": "edd23a31-1e6f-4fec-dbbd-7c12bb349485"
      },
      "execution_count": 18,
      "outputs": [
        {
          "output_type": "execute_result",
          "data": {
            "text/plain": [
              "(3034, 48)"
            ]
          },
          "metadata": {},
          "execution_count": 18
        }
      ]
    },
    {
      "cell_type": "code",
      "source": [
        "merged_data['DIQ010'] = merged_data['DIQ010'].map({1: 1, 2: 0, 3: 0})"
      ],
      "metadata": {
        "id": "1hIozk5nr7L3"
      },
      "execution_count": 19,
      "outputs": []
    },
    {
      "cell_type": "code",
      "source": [
        "merged_data['DIQ010'].value_counts()"
      ],
      "metadata": {
        "colab": {
          "base_uri": "https://localhost:8080/"
        },
        "id": "0J0lGnwFuAlD",
        "outputId": "17d8ad9c-b991-4398-8dfa-9715006c87e3"
      },
      "execution_count": 20,
      "outputs": [
        {
          "output_type": "execute_result",
          "data": {
            "text/plain": [
              "0    2599\n",
              "1     435\n",
              "Name: DIQ010, dtype: int64"
            ]
          },
          "metadata": {},
          "execution_count": 20
        }
      ]
    },
    {
      "cell_type": "code",
      "source": [
        "100*(merged_data.isnull().sum()/len(merged_data))"
      ],
      "metadata": {
        "colab": {
          "base_uri": "https://localhost:8080/"
        },
        "id": "Y5dMMN1dr7PS",
        "outputId": "d7fb9da3-b30b-4735-87e6-9bbf35e0a228"
      },
      "execution_count": 21,
      "outputs": [
        {
          "output_type": "execute_result",
          "data": {
            "text/plain": [
              "SEQN         0.000000\n",
              "SDDSRVYR     0.000000\n",
              "RIDSTATR     0.000000\n",
              "RIAGENDR     0.000000\n",
              "RIDAGEYR     0.000000\n",
              "RIDRETH1     0.000000\n",
              "RIDRETH3     0.000000\n",
              "RIDEXMON     0.000000\n",
              "DMQMILIZ    11.008570\n",
              "DMDBORN4     0.000000\n",
              "DMDCITZN     0.032960\n",
              "DMDEDUC2    16.315096\n",
              "DMDMARTL    16.315096\n",
              "SIALANG      0.000000\n",
              "SIAPROXY     0.000000\n",
              "SIAINTRP     0.000000\n",
              "FIALANG      4.185893\n",
              "FIAPROXY     4.185893\n",
              "FIAINTRP     4.185893\n",
              "MIALANG      6.361239\n",
              "MIAPROXY     6.361239\n",
              "MIAINTRP     6.361239\n",
              "AIALANGA    21.885300\n",
              "DMDHHSIZ     0.000000\n",
              "DMDFMSIZ     0.000000\n",
              "DMDHHSZA     0.000000\n",
              "DMDHHSZB     0.000000\n",
              "DMDHHSZE     0.000000\n",
              "DMDHRGND     0.000000\n",
              "DMDHRAGZ     0.000000\n",
              "DMDHREDZ     4.482531\n",
              "DMDHRMAZ     1.911668\n",
              "WTINT2YR     0.000000\n",
              "WTMEC2YR     0.000000\n",
              "SDMVPSU      0.000000\n",
              "SDMVSTRA     0.000000\n",
              "INDHHIN2     4.581411\n",
              "INDFMIN2     4.185893\n",
              "INDFMPIR    13.381674\n",
              "WTSAF2YR     0.000000\n",
              "LBXGLU       4.779169\n",
              "LBDGLUSI     4.779169\n",
              "DIQ010       0.000000\n",
              "DIQ160      17.205010\n",
              "DIQ170      14.337508\n",
              "DIQ172      14.337508\n",
              "DIQ180      14.337508\n",
              "DIQ050       0.000000\n",
              "dtype: float64"
            ]
          },
          "metadata": {},
          "execution_count": 21
        }
      ]
    },
    {
      "cell_type": "code",
      "source": [
        "merged_data.fillna(merged_data.median(), inplace = True)"
      ],
      "metadata": {
        "id": "X17KrnFUr7Sb"
      },
      "execution_count": 22,
      "outputs": []
    },
    {
      "cell_type": "code",
      "source": [
        "# Split the dataset into features (X) and target (y)\n",
        "\n",
        "X = merged_data.drop(columns = ['DIQ010'])\n",
        "y = merged_data['DIQ010']\n",
        "\n",
        "X_train, X_test, y_train, y_test = train_test_split(X, y, test_size = 0.2, \n",
        "                                                    random_state = 42)"
      ],
      "metadata": {
        "id": "JOMi2y3xWX1r"
      },
      "execution_count": 23,
      "outputs": []
    },
    {
      "cell_type": "markdown",
      "source": [
        "Final Model"
      ],
      "metadata": {
        "id": "Iko3S0XleVHC"
      }
    },
    {
      "cell_type": "code",
      "source": [
        "from hyperopt import fmin, tpe, hp, Trials, STATUS_OK\n",
        "from sklearn.feature_selection import RFE\n",
        "from sklearn.ensemble import RandomForestClassifier\n",
        "from sklearn.model_selection import train_test_split, KFold, cross_val_score\n",
        "from sklearn.preprocessing import StandardScaler\n",
        "\n",
        "def binary_classification(params):\n",
        "\n",
        "    n_features_to_select = int(params['n_features'])\n",
        "    n_estimators = int(params['n_estimators'])\n",
        "    max_depth = int(params['max_depth'])\n",
        "    \n",
        "    # Split the dataset into training and testing sets\n",
        "    X_train_1, X_test_1, y_train_1, y_test_1 = train_test_split(X_train, y_train, \n",
        "                                                                test_size = 0.2, \n",
        "                                                                random_state = 42)\n",
        "    \n",
        "    # Standardize numeric variables\n",
        "    scaler = StandardScaler()\n",
        "    X_train_1 = scaler.fit_transform(X_train_1)\n",
        "    X_test_1 = scaler.transform(X_test_1)\n",
        "    \n",
        "    # Automate feature selection using Recursive Feature Elimination (RFE)\n",
        "    # with a Random Forest classifier\n",
        "    rfc = RandomForestClassifier(random_state = 42, \n",
        "                                 n_estimators = n_estimators, \n",
        "                                 max_depth = max_depth)\n",
        "    rfe = RFE(estimator = rfc, n_features_to_select = n_features_to_select)\n",
        "    \n",
        "    rfe.fit(X_train_1, y_train_1)\n",
        "    \n",
        "    y_pred = rfe.predict(X_test_1)\n",
        "\n",
        "    f1 = f1_score(y_test_1, y_pred)\n",
        "\n",
        "    return {'loss': -f1, 'status': STATUS_OK}\n",
        "\n",
        "# Define the search space for the hyperparameters\n",
        "search_space = {\n",
        "    'n_features': hp.quniform('n_features', 1, X.shape[1], 1),\n",
        "    'n_estimators': hp.quniform('n_estimators', 1, 300, 1),\n",
        "    'max_depth': hp.quniform('max_depth', 1, 20, 1)\n",
        "}\n",
        "\n",
        "# Optimize the hyperparameters using HyperOpt\n",
        "trials = Trials()\n",
        "best = fmin(fn = binary_classification, space = search_space, algo = tpe.suggest, \n",
        "            max_evals = 30, trials = trials)\n",
        "\n",
        "# Print the best hyperparameters\n",
        "print(f\"Best Number of Features: {int(best['n_features'])}\")\n",
        "print(f\"Best Number of Estimators: {int(best['n_estimators'])}\")\n",
        "print(f\"Best Max Depth: {int(best['max_depth'])}\")"
      ],
      "metadata": {
        "colab": {
          "base_uri": "https://localhost:8080/"
        },
        "id": "TfTTKE3NZoSt",
        "outputId": "286b6c07-c01b-4d08-f8f1-e6702191775f"
      },
      "execution_count": 25,
      "outputs": [
        {
          "output_type": "stream",
          "name": "stdout",
          "text": [
            "100%|██████████| 30/30 [06:34<00:00, 13.16s/trial, best loss: -0.8571428571428572]\n",
            "Best Number of Features: 13\n",
            "Best Number of Estimators: 110\n",
            "Best Max Depth: 13\n"
          ]
        }
      ]
    },
    {
      "cell_type": "code",
      "source": [
        "# Automate feature selection using Recursive Feature Elimination (RFE)\n",
        "# with a Random Forest classifier\n",
        "\n",
        "\n",
        "rfc = RandomForestClassifier(n_estimators = int(best['n_estimators']), \n",
        "                             max_depth = int(best['max_depth']), \n",
        "                             random_state = 42)\n",
        "rfe = RFE(estimator = rfc, n_features_to_select = int(best['n_features']))\n",
        "rfe.fit(X_train, y_train)\n",
        "selected_features = X_train.columns[rfe.support_] "
      ],
      "metadata": {
        "id": "775ZStDVwepa"
      },
      "execution_count": 26,
      "outputs": []
    },
    {
      "cell_type": "code",
      "source": [
        "selected_features"
      ],
      "metadata": {
        "colab": {
          "base_uri": "https://localhost:8080/"
        },
        "id": "2yNwSvAjwesu",
        "outputId": "6334cee5-654f-4634-8054-25b95f576dc3"
      },
      "execution_count": 27,
      "outputs": [
        {
          "output_type": "execute_result",
          "data": {
            "text/plain": [
              "Index(['SEQN', 'RIDAGEYR', 'WTINT2YR', 'WTMEC2YR', 'SDMVSTRA', 'INDFMIN2',\n",
              "       'INDFMPIR', 'WTSAF2YR', 'LBXGLU', 'LBDGLUSI', 'DIQ172', 'DIQ180',\n",
              "       'DIQ050'],\n",
              "      dtype='object')"
            ]
          },
          "metadata": {},
          "execution_count": 27
        }
      ]
    },
    {
      "cell_type": "code",
      "source": [
        "X_train = X_train[selected_features]\n",
        "X_test = X_test[selected_features]"
      ],
      "metadata": {
        "id": "6vK9LZ-813EO"
      },
      "execution_count": 28,
      "outputs": []
    },
    {
      "cell_type": "code",
      "source": [
        "clf = RandomForestClassifier(n_estimators = int(best['n_estimators']), \n",
        "                             max_depth = int(best['max_depth']), \n",
        "                             random_state = 42)\n",
        "clf.fit(X_train, y_train)\n",
        "\n",
        "# Predict on the test set and calculate the F1 score\n",
        "y_pred = clf.predict(X_test)\n",
        "f1 = f1_score(y_test, y_pred)\n",
        "print(f1)"
      ],
      "metadata": {
        "colab": {
          "base_uri": "https://localhost:8080/"
        },
        "id": "t3v8EazNwewS",
        "outputId": "55105d4f-5645-4605-c1d3-635fcf28346b"
      },
      "execution_count": 29,
      "outputs": [
        {
          "output_type": "stream",
          "name": "stdout",
          "text": [
            "0.7733333333333334\n"
          ]
        }
      ]
    }
  ]
}